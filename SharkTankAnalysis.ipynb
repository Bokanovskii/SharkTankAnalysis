{
  "nbformat": 4,
  "nbformat_minor": 0,
  "metadata": {
    "kernelspec": {
      "display_name": "Python 3",
      "language": "python",
      "name": "python3"
    },
    "language_info": {
      "codemirror_mode": {
        "name": "ipython",
        "version": 3
      },
      "file_extension": ".py",
      "mimetype": "text/x-python",
      "name": "python",
      "nbconvert_exporter": "python",
      "pygments_lexer": "ipython3",
      "version": "3.6.8"
    },
    "colab": {
      "name": "DATA 301 Lab 2A - Charlie Ward",
      "provenance": [],
      "collapsed_sections": []
    }
  },
  "cells": [
    {
      "cell_type": "markdown",
      "metadata": {
        "id": "TWcmdY-v6AD1"
      },
      "source": [
        "# Shark Tank\n",
        "\n",
        "The data contains information about all contestants from the first 6 seasons of the show, including:\n",
        "- the name and industry of the proposed company\n",
        "- whether or not it was funded (i.e., the \"Deal\" column)\n",
        "- which sharks chose to invest in the venture (N.B. There are 7 regular sharks, not including \"Guest\". Each shark has a column in the data set, labeled by their last name.)\n",
        "- if funded, the amount of money the sharks put in and the percentage equity they got in return"
      ]
    },
    {
      "cell_type": "code",
      "metadata": {
        "id": "xWVgjFTV6AD4"
      },
      "source": [
        "import pandas as pd\n",
        "import numpy as np"
      ],
      "execution_count": null,
      "outputs": []
    },
    {
      "cell_type": "markdown",
      "metadata": {
        "id": "PA8nrH5u6AD7"
      },
      "source": [
        "Getting and Cleaning the Data"
      ]
    },
    {
      "cell_type": "code",
      "metadata": {
        "id": "4GvnXJRT6AD8"
      },
      "source": [
        "df = pd.read_csv(\"https://dlsun.github.io/pods/data/sharktank.csv\")\n",
        "df.set_index(\"Company\", inplace=True)"
      ],
      "execution_count": null,
      "outputs": []
    },
    {
      "cell_type": "code",
      "metadata": {
        "id": "wtIkax6c6AEB",
        "colab": {
          "base_uri": "https://localhost:8080/",
          "height": 286
        },
        "outputId": "532e6b6f-864f-4936-de30-77448518235e"
      },
      "source": [
        "df[\"Corcoran\"].fillna(0, inplace=True)\n",
        "df[\"Cuban\"].fillna(0, inplace=True)\n",
        "df[\"Greiner\"].fillna(0, inplace=True)\n",
        "df[\"Herjavec\"].fillna(0, inplace=True)\n",
        "df[\"John\"].fillna(0, inplace=True)\n",
        "df[\"O'Leary\"].fillna(0, inplace=True)\n",
        "df[\"Harrington\"].fillna(0, inplace=True)\n",
        "df[\"Guest\"].fillna(0, inplace=True)\n",
        "df.head()"
      ],
      "execution_count": null,
      "outputs": [
        {
          "output_type": "execute_result",
          "data": {
            "text/html": [
              "<div>\n",
              "<style scoped>\n",
              "    .dataframe tbody tr th:only-of-type {\n",
              "        vertical-align: middle;\n",
              "    }\n",
              "\n",
              "    .dataframe tbody tr th {\n",
              "        vertical-align: top;\n",
              "    }\n",
              "\n",
              "    .dataframe thead th {\n",
              "        text-align: right;\n",
              "    }\n",
              "</style>\n",
              "<table border=\"1\" class=\"dataframe\">\n",
              "  <thead>\n",
              "    <tr style=\"text-align: right;\">\n",
              "      <th></th>\n",
              "      <th>Season</th>\n",
              "      <th>No. in series</th>\n",
              "      <th>Deal</th>\n",
              "      <th>Industry</th>\n",
              "      <th>Entrepreneur Gender</th>\n",
              "      <th>Amount</th>\n",
              "      <th>Equity</th>\n",
              "      <th>Corcoran</th>\n",
              "      <th>Cuban</th>\n",
              "      <th>Greiner</th>\n",
              "      <th>Herjavec</th>\n",
              "      <th>John</th>\n",
              "      <th>O'Leary</th>\n",
              "      <th>Harrington</th>\n",
              "      <th>Guest</th>\n",
              "      <th>Details / Notes</th>\n",
              "    </tr>\n",
              "    <tr>\n",
              "      <th>Company</th>\n",
              "      <th></th>\n",
              "      <th></th>\n",
              "      <th></th>\n",
              "      <th></th>\n",
              "      <th></th>\n",
              "      <th></th>\n",
              "      <th></th>\n",
              "      <th></th>\n",
              "      <th></th>\n",
              "      <th></th>\n",
              "      <th></th>\n",
              "      <th></th>\n",
              "      <th></th>\n",
              "      <th></th>\n",
              "      <th></th>\n",
              "      <th></th>\n",
              "    </tr>\n",
              "  </thead>\n",
              "  <tbody>\n",
              "    <tr>\n",
              "      <th>Ava the Elephant</th>\n",
              "      <td>1.0</td>\n",
              "      <td>1.0</td>\n",
              "      <td>Yes</td>\n",
              "      <td>Healthcare</td>\n",
              "      <td>Female</td>\n",
              "      <td>$50,000</td>\n",
              "      <td>55%</td>\n",
              "      <td>1.0</td>\n",
              "      <td>0.0</td>\n",
              "      <td>0.0</td>\n",
              "      <td>0.0</td>\n",
              "      <td>0.0</td>\n",
              "      <td>0.0</td>\n",
              "      <td>0.0</td>\n",
              "      <td>0.0</td>\n",
              "      <td>NaN</td>\n",
              "    </tr>\n",
              "    <tr>\n",
              "      <th>Mr. Tod's Pie Factory</th>\n",
              "      <td>1.0</td>\n",
              "      <td>1.0</td>\n",
              "      <td>Yes</td>\n",
              "      <td>Food and Beverage</td>\n",
              "      <td>Male</td>\n",
              "      <td>$460,000</td>\n",
              "      <td>50%</td>\n",
              "      <td>1.0</td>\n",
              "      <td>0.0</td>\n",
              "      <td>0.0</td>\n",
              "      <td>0.0</td>\n",
              "      <td>1.0</td>\n",
              "      <td>0.0</td>\n",
              "      <td>0.0</td>\n",
              "      <td>0.0</td>\n",
              "      <td>NaN</td>\n",
              "    </tr>\n",
              "    <tr>\n",
              "      <th>Wispots</th>\n",
              "      <td>1.0</td>\n",
              "      <td>1.0</td>\n",
              "      <td>No</td>\n",
              "      <td>Business Services</td>\n",
              "      <td>Male</td>\n",
              "      <td>NaN</td>\n",
              "      <td>NaN</td>\n",
              "      <td>0.0</td>\n",
              "      <td>0.0</td>\n",
              "      <td>0.0</td>\n",
              "      <td>0.0</td>\n",
              "      <td>0.0</td>\n",
              "      <td>0.0</td>\n",
              "      <td>0.0</td>\n",
              "      <td>0.0</td>\n",
              "      <td>NaN</td>\n",
              "    </tr>\n",
              "    <tr>\n",
              "      <th>College Foxes Packing Boxes</th>\n",
              "      <td>1.0</td>\n",
              "      <td>1.0</td>\n",
              "      <td>No</td>\n",
              "      <td>Lifestyle / Home</td>\n",
              "      <td>Male</td>\n",
              "      <td>NaN</td>\n",
              "      <td>NaN</td>\n",
              "      <td>0.0</td>\n",
              "      <td>0.0</td>\n",
              "      <td>0.0</td>\n",
              "      <td>0.0</td>\n",
              "      <td>0.0</td>\n",
              "      <td>0.0</td>\n",
              "      <td>0.0</td>\n",
              "      <td>0.0</td>\n",
              "      <td>NaN</td>\n",
              "    </tr>\n",
              "    <tr>\n",
              "      <th>Ionic Ear</th>\n",
              "      <td>1.0</td>\n",
              "      <td>1.0</td>\n",
              "      <td>No</td>\n",
              "      <td>Uncertain / Other</td>\n",
              "      <td>Male</td>\n",
              "      <td>NaN</td>\n",
              "      <td>NaN</td>\n",
              "      <td>0.0</td>\n",
              "      <td>0.0</td>\n",
              "      <td>0.0</td>\n",
              "      <td>0.0</td>\n",
              "      <td>0.0</td>\n",
              "      <td>0.0</td>\n",
              "      <td>0.0</td>\n",
              "      <td>0.0</td>\n",
              "      <td>NaN</td>\n",
              "    </tr>\n",
              "  </tbody>\n",
              "</table>\n",
              "</div>"
            ],
            "text/plain": [
              "                             Season  No. in series  ... Guest Details / Notes\n",
              "Company                                             ...                      \n",
              "Ava the Elephant                1.0            1.0  ...   0.0             NaN\n",
              "Mr. Tod's Pie Factory           1.0            1.0  ...   0.0             NaN\n",
              "Wispots                         1.0            1.0  ...   0.0             NaN\n",
              "College Foxes Packing Boxes     1.0            1.0  ...   0.0             NaN\n",
              "Ionic Ear                       1.0            1.0  ...   0.0             NaN\n",
              "\n",
              "[5 rows x 16 columns]"
            ]
          },
          "metadata": {
            "tags": []
          },
          "execution_count": 3
        }
      ]
    },
    {
      "cell_type": "code",
      "metadata": {
        "id": "F37ulZeb6AEE",
        "colab": {
          "base_uri": "https://localhost:8080/",
          "height": 286
        },
        "outputId": "40c2c730-4856-403b-ea69-ecfc38f1ed68"
      },
      "source": [
        "# the $ and % are recognized as ASCII characters and not numerical type\n",
        "df[\"Amount\"] = df[\"Amount\"].str.strip(\"$\")\n",
        "df[\"Amount\"] = df[\"Amount\"].str.replace(\",\", \"\").astype(float)\n",
        "df[\"Equity\"] = df[\"Equity\"].str.strip(\"%\").astype(float)\n",
        "df.head()"
      ],
      "execution_count": null,
      "outputs": [
        {
          "output_type": "execute_result",
          "data": {
            "text/html": [
              "<div>\n",
              "<style scoped>\n",
              "    .dataframe tbody tr th:only-of-type {\n",
              "        vertical-align: middle;\n",
              "    }\n",
              "\n",
              "    .dataframe tbody tr th {\n",
              "        vertical-align: top;\n",
              "    }\n",
              "\n",
              "    .dataframe thead th {\n",
              "        text-align: right;\n",
              "    }\n",
              "</style>\n",
              "<table border=\"1\" class=\"dataframe\">\n",
              "  <thead>\n",
              "    <tr style=\"text-align: right;\">\n",
              "      <th></th>\n",
              "      <th>Season</th>\n",
              "      <th>No. in series</th>\n",
              "      <th>Deal</th>\n",
              "      <th>Industry</th>\n",
              "      <th>Entrepreneur Gender</th>\n",
              "      <th>Amount</th>\n",
              "      <th>Equity</th>\n",
              "      <th>Corcoran</th>\n",
              "      <th>Cuban</th>\n",
              "      <th>Greiner</th>\n",
              "      <th>Herjavec</th>\n",
              "      <th>John</th>\n",
              "      <th>O'Leary</th>\n",
              "      <th>Harrington</th>\n",
              "      <th>Guest</th>\n",
              "      <th>Details / Notes</th>\n",
              "    </tr>\n",
              "    <tr>\n",
              "      <th>Company</th>\n",
              "      <th></th>\n",
              "      <th></th>\n",
              "      <th></th>\n",
              "      <th></th>\n",
              "      <th></th>\n",
              "      <th></th>\n",
              "      <th></th>\n",
              "      <th></th>\n",
              "      <th></th>\n",
              "      <th></th>\n",
              "      <th></th>\n",
              "      <th></th>\n",
              "      <th></th>\n",
              "      <th></th>\n",
              "      <th></th>\n",
              "      <th></th>\n",
              "    </tr>\n",
              "  </thead>\n",
              "  <tbody>\n",
              "    <tr>\n",
              "      <th>Ava the Elephant</th>\n",
              "      <td>1.0</td>\n",
              "      <td>1.0</td>\n",
              "      <td>Yes</td>\n",
              "      <td>Healthcare</td>\n",
              "      <td>Female</td>\n",
              "      <td>50000.0</td>\n",
              "      <td>55.0</td>\n",
              "      <td>1.0</td>\n",
              "      <td>0.0</td>\n",
              "      <td>0.0</td>\n",
              "      <td>0.0</td>\n",
              "      <td>0.0</td>\n",
              "      <td>0.0</td>\n",
              "      <td>0.0</td>\n",
              "      <td>0.0</td>\n",
              "      <td>NaN</td>\n",
              "    </tr>\n",
              "    <tr>\n",
              "      <th>Mr. Tod's Pie Factory</th>\n",
              "      <td>1.0</td>\n",
              "      <td>1.0</td>\n",
              "      <td>Yes</td>\n",
              "      <td>Food and Beverage</td>\n",
              "      <td>Male</td>\n",
              "      <td>460000.0</td>\n",
              "      <td>50.0</td>\n",
              "      <td>1.0</td>\n",
              "      <td>0.0</td>\n",
              "      <td>0.0</td>\n",
              "      <td>0.0</td>\n",
              "      <td>1.0</td>\n",
              "      <td>0.0</td>\n",
              "      <td>0.0</td>\n",
              "      <td>0.0</td>\n",
              "      <td>NaN</td>\n",
              "    </tr>\n",
              "    <tr>\n",
              "      <th>Wispots</th>\n",
              "      <td>1.0</td>\n",
              "      <td>1.0</td>\n",
              "      <td>No</td>\n",
              "      <td>Business Services</td>\n",
              "      <td>Male</td>\n",
              "      <td>NaN</td>\n",
              "      <td>NaN</td>\n",
              "      <td>0.0</td>\n",
              "      <td>0.0</td>\n",
              "      <td>0.0</td>\n",
              "      <td>0.0</td>\n",
              "      <td>0.0</td>\n",
              "      <td>0.0</td>\n",
              "      <td>0.0</td>\n",
              "      <td>0.0</td>\n",
              "      <td>NaN</td>\n",
              "    </tr>\n",
              "    <tr>\n",
              "      <th>College Foxes Packing Boxes</th>\n",
              "      <td>1.0</td>\n",
              "      <td>1.0</td>\n",
              "      <td>No</td>\n",
              "      <td>Lifestyle / Home</td>\n",
              "      <td>Male</td>\n",
              "      <td>NaN</td>\n",
              "      <td>NaN</td>\n",
              "      <td>0.0</td>\n",
              "      <td>0.0</td>\n",
              "      <td>0.0</td>\n",
              "      <td>0.0</td>\n",
              "      <td>0.0</td>\n",
              "      <td>0.0</td>\n",
              "      <td>0.0</td>\n",
              "      <td>0.0</td>\n",
              "      <td>NaN</td>\n",
              "    </tr>\n",
              "    <tr>\n",
              "      <th>Ionic Ear</th>\n",
              "      <td>1.0</td>\n",
              "      <td>1.0</td>\n",
              "      <td>No</td>\n",
              "      <td>Uncertain / Other</td>\n",
              "      <td>Male</td>\n",
              "      <td>NaN</td>\n",
              "      <td>NaN</td>\n",
              "      <td>0.0</td>\n",
              "      <td>0.0</td>\n",
              "      <td>0.0</td>\n",
              "      <td>0.0</td>\n",
              "      <td>0.0</td>\n",
              "      <td>0.0</td>\n",
              "      <td>0.0</td>\n",
              "      <td>0.0</td>\n",
              "      <td>NaN</td>\n",
              "    </tr>\n",
              "  </tbody>\n",
              "</table>\n",
              "</div>"
            ],
            "text/plain": [
              "                             Season  No. in series  ... Guest Details / Notes\n",
              "Company                                             ...                      \n",
              "Ava the Elephant                1.0            1.0  ...   0.0             NaN\n",
              "Mr. Tod's Pie Factory           1.0            1.0  ...   0.0             NaN\n",
              "Wispots                         1.0            1.0  ...   0.0             NaN\n",
              "College Foxes Packing Boxes     1.0            1.0  ...   0.0             NaN\n",
              "Ionic Ear                       1.0            1.0  ...   0.0             NaN\n",
              "\n",
              "[5 rows x 16 columns]"
            ]
          },
          "metadata": {
            "tags": []
          },
          "execution_count": 4
        }
      ]
    },
    {
      "cell_type": "markdown",
      "metadata": {
        "id": "zXjBDsQl6AEH"
      },
      "source": [
        "## Which Company was Worth the Most?"
      ]
    },
    {
      "cell_type": "code",
      "metadata": {
        "id": "Hw6xcTSz6AEJ",
        "colab": {
          "base_uri": "https://localhost:8080/"
        },
        "outputId": "90997d11-1773-43c6-f92d-722567f063f3"
      },
      "source": [
        "df[\"Valuation\"] = df[\"Amount\"] / (df[\"Equity\"] / 100)\n",
        "df[\"Valuation\"].replace([np.inf, -np.inf], np.nan, inplace=True)\n",
        "print(\"Highest Valuation: \", df[\"Valuation\"].idxmax(), df[\"Valuation\"].max(), \"\\nLargest total investment: \", df[\"Amount\"].idxmax(), df[\"Amount\"].max())"
      ],
      "execution_count": null,
      "outputs": [
        {
          "output_type": "stream",
          "text": [
            "Highest Valuation:  Zipz 25000000.0 \n",
            "Largest total investment:  AirCar 5000000.0\n"
          ],
          "name": "stdout"
        }
      ]
    },
    {
      "cell_type": "markdown",
      "metadata": {
        "id": "ZxATH5XX6AEL"
      },
      "source": [
        "**The most valuable company was Zipz at \\$25,000,000 but this was not the same as the company with the largest total investment. That was AirCar at \\$5,000,000.**"
      ]
    },
    {
      "cell_type": "markdown",
      "metadata": {
        "id": "ADyYjzcf6AEM"
      },
      "source": [
        "## Which Shark Invested the Most?"
      ]
    },
    {
      "cell_type": "code",
      "metadata": {
        "id": "a5MrleWP6AEN",
        "colab": {
          "base_uri": "https://localhost:8080/"
        },
        "outputId": "e96e00ee-a7e4-423e-c381-ed8e0743a846"
      },
      "source": [
        "df_sharks = df[[\"Corcoran\", \"Cuban\", \"Greiner\", \"Herjavec\", \"John\", \"O'Leary\", \"Harrington\", \"Guest\"]]\n",
        "df[\"# Sharks funded\"] = df_sharks.sum(axis=1)\n",
        "\n",
        "for shark in [\"Corcoran\", \"Cuban\", \"Greiner\", \"Herjavec\", \"John\", \"O'Leary\", \"Harrington\", \"Guest\"]:\n",
        "  mask = (df[shark] == 1.0)\n",
        "  df_valid = df[mask]\n",
        "  df.loc[mask, shark] = df_valid[\"Amount\"] / df_valid[\"# Sharks funded\"]\n",
        "df.loc[\"Total\"] = df[[\"Corcoran\", \"Cuban\", \"Greiner\", \"Herjavec\", \"John\", \"O'Leary\", \"Harrington\", \"Guest\"]].sum(numeric_only=True)\n",
        "df_totals = df[[\"Corcoran\", \"Cuban\", \"Greiner\", \"Herjavec\", \"John\", \"O'Leary\", \"Harrington\", \"Guest\"]]\n",
        "print(df_totals.loc[\"Total\"])\n",
        "print(\"Largest investor:\", df.loc[\"Total\"].fillna(0).idxmax(axis=1))"
      ],
      "execution_count": null,
      "outputs": [
        {
          "output_type": "stream",
          "text": [
            "Corcoran       4912500.0\n",
            "Cuban         17817500.0\n",
            "Greiner        8170000.0\n",
            "Herjavec      16297500.0\n",
            "John           8154000.0\n",
            "O'Leary        7952500.0\n",
            "Harrington      800000.0\n",
            "Guest           400000.0\n",
            "Name: Total, dtype: float64\n",
            "Largest investor: Cuban\n"
          ],
          "name": "stdout"
        }
      ]
    },
    {
      "cell_type": "markdown",
      "metadata": {
        "id": "Dj9nfLVm6AEQ"
      },
      "source": [
        "**Cuban was the largest investor over the 6 seasons with $17,817,500 invested.**"
      ]
    },
    {
      "cell_type": "markdown",
      "metadata": {
        "id": "0YCCe77s6AEQ"
      },
      "source": [
        "## Do the Sharks Prefer Certain Industries?"
      ]
    },
    {
      "cell_type": "code",
      "metadata": {
        "id": "bM_rL2Og6AER",
        "colab": {
          "base_uri": "https://localhost:8080/",
          "height": 401
        },
        "outputId": "20c8eefd-a16c-4dbf-b1a9-0a2097e9543b"
      },
      "source": [
        "def mapFunded(c):\n",
        "  if c == 0:\n",
        "    return 0\n",
        "  return 1\n",
        "df[\"Funded\"] = df[\"# Sharks funded\"].map(mapFunded)\n",
        "df.groupby(\"Industry\").apply(lambda x: x[\"Funded\"].sum()/len(x)).sort_values(ascending = True).plot.bar()"
      ],
      "execution_count": null,
      "outputs": [
        {
          "output_type": "execute_result",
          "data": {
            "text/plain": [
              "<matplotlib.axes._subplots.AxesSubplot at 0x7fec06955898>"
            ]
          },
          "metadata": {
            "tags": []
          },
          "execution_count": 7
        },
        {
          "output_type": "display_data",
          "data": {
            "image/png": "[encoded data removed]",
            "text/plain": [
              "<Figure size 432x288 with 1 Axes>"
            ]
          },
          "metadata": {
            "tags": [],
            "needs_background": "light"
          }
        }
      ]
    },
    {
      "cell_type": "markdown",
      "metadata": {
        "id": "pEjLlugf6AET"
      },
      "source": [
        "**The Sharks seem to prefer industries like Fitness/Sports, Green/CleanTech, Healthcare, and Media/Entertainment to name a few. They don't seem to prefer industries such as Business Services, Pet Products, and Fashion/Beauty.**"
      ]
    }
  ]
}